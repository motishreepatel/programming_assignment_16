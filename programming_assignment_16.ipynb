{
 "cells": [
  {
   "cell_type": "code",
   "execution_count": 1,
   "metadata": {},
   "outputs": [
    {
     "name": "stdout",
     "output_type": "stream",
     "text": [
      "in... in... incredible?\n"
     ]
    }
   ],
   "source": [
    "#Q - Question1. Write a function that stutters a word as if someone is struggling to read it. The first two letters are repeated twice with an ellipsis ... and space after each, and then the word is pronounced with a question mark ?.\n",
    "#Answer:\n",
    "def stutter_word(word):\n",
    "    if len(word) < 2:\n",
    "        return word\n",
    "\n",
    "    stuttered_word = word[:2] + \"... \" + word[:2] + \"... \" + word + \"?\"\n",
    "    return stuttered_word\n",
    "\n",
    "# Example usage:\n",
    "word = \"incredible\"\n",
    "stuttered_word = stutter_word(word)\n",
    "print(stuttered_word)"
   ]
  },
  {
   "cell_type": "code",
   "execution_count": 8,
   "metadata": {},
   "outputs": [
    {
     "name": "stdout",
     "output_type": "stream",
     "text": [
      "57.3\n"
     ]
    }
   ],
   "source": [
    "#Q - Question 2.Create a function that takes an angle in radians and returns the corresponding angle in degrees rounded to one decimal place.\n",
    "#Answer:\n",
    "import math\n",
    "\n",
    "def radians_to_degrees(angle_radians):\n",
    "    angle_degrees = math.degrees(angle_radians)\n",
    "    rounded_angle = round(angle_degrees, 1)\n",
    "    return rounded_angle\n",
    "\n",
    "# Example usage:\n",
    "angle_radians = 1\n",
    "angle_degrees = radians_to_degrees(angle_radians)\n",
    "print(angle_degrees)"
   ]
  },
  {
   "cell_type": "code",
   "execution_count": 4,
   "metadata": {},
   "outputs": [
    {
     "name": "stdout",
     "output_type": "stream",
     "text": [
      "False\n"
     ]
    }
   ],
   "source": [
    "#Q - Question 3 - \n",
    "'''In this challenge, establish if a given integer num is a Curzon number. If 1 plus\n",
    "2 elevated to num is exactly divisible by 1 plus 2 multiplied by num, then num is a Curzon\n",
    "number.\n",
    "Given a non-negative integer num, implement a function that returns True if num is a Curzon\n",
    "number, or False otherwise.'''\n",
    "\n",
    "#Answer:\n",
    "def is_curzon_number(num):\n",
    "    numerator = 2**num + 1\n",
    "    denominator = 2*num + 1\n",
    "    return numerator % denominator == 0\n",
    "\n",
    "num = 10\n",
    "is_curzon = is_curzon_number(num)\n",
    "print(is_curzon)\n"
   ]
  },
  {
   "cell_type": "code",
   "execution_count": 7,
   "metadata": {},
   "outputs": [
    {
     "name": "stdout",
     "output_type": "stream",
     "text": [
      "23.382685902179844\n"
     ]
    }
   ],
   "source": [
    "#Q -Question 4.Given the side length x find the area of a hexagon.\n",
    "#Answer:\n",
    "import math\n",
    "\n",
    "def calculate_hexagon_area(side_length):\n",
    "    area = (3 * math.sqrt(3) * side_length**2) / 2\n",
    "    return area\n",
    "\n",
    "side_length = 3\n",
    "hexagon_area = calculate_hexagon_area(side_length)\n",
    "print(hexagon_area)\n"
   ]
  },
  {
   "cell_type": "code",
   "execution_count": 9,
   "metadata": {},
   "outputs": [
    {
     "name": "stdout",
     "output_type": "stream",
     "text": [
      "1010\n"
     ]
    }
   ],
   "source": [
    "#Q - Question 5. \n",
    "'''Create a function that returns a base-2 (binary) representation of a base-10\n",
    "(decimal) string number. To convert is simple: ((2) means base-2 and (10) means base-10)\n",
    "010101001(2) = 1 + 8 + 32 + 128.\n",
    "Going from right to left, the value of the most right bit is 1, now from that every bit to the left\n",
    "will be x2 the value, value of an 8 bit binary numbers are (256, 128, 64, 32, 16, 8, 4, 2, 1).'''  \n",
    "\n",
    "#Answer:\n",
    "def decimal_to_binary(decimal_number):\n",
    "    decimal_number = int(decimal_number)  # Convert input to integer\n",
    "    binary_representation = \"\"\n",
    "\n",
    "    while decimal_number > 0:\n",
    "        binary_digit = decimal_number % 2  # Calculate the remainder\n",
    "        binary_representation = str(binary_digit) + binary_representation\n",
    "        decimal_number = decimal_number // 2  # Integer division\n",
    "\n",
    "    return binary_representation\n",
    "\n",
    "decimal_number = \"10\"\n",
    "binary_representation = decimal_to_binary(decimal_number)\n",
    "print(binary_representation)\n"
   ]
  },
  {
   "cell_type": "code",
   "execution_count": null,
   "metadata": {},
   "outputs": [],
   "source": []
  }
 ],
 "metadata": {
  "kernelspec": {
   "display_name": "Python 3.9.6 64-bit",
   "language": "python",
   "name": "python3"
  },
  "language_info": {
   "codemirror_mode": {
    "name": "ipython",
    "version": 3
   },
   "file_extension": ".py",
   "mimetype": "text/x-python",
   "name": "python",
   "nbconvert_exporter": "python",
   "pygments_lexer": "ipython3",
   "version": "3.9.6"
  },
  "orig_nbformat": 4,
  "vscode": {
   "interpreter": {
    "hash": "31f2aee4e71d21fbe5cf8b01ff0e069b9275f58929596ceb00d14d90e3e16cd6"
   }
  }
 },
 "nbformat": 4,
 "nbformat_minor": 2
}
